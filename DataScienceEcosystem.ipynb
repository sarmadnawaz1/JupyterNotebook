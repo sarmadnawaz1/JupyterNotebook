{
 "cells": [
  {
   "cell_type": "markdown",
   "id": "22536cc0-d5ea-42c2-b5fa-3f7edead386d",
   "metadata": {},
   "source": [
    "# Data Science Tools and Ecosystem"
   ]
  },
  {
   "cell_type": "markdown",
   "id": "c7710173-7d28-4cad-a9ed-43877aa89b0f",
   "metadata": {},
   "source": [
    "In this notebook, Data Science Tools and Ecosystem are summarized."
   ]
  },
  {
   "cell_type": "markdown",
   "id": "d89a1583-845f-4d83-92ed-46b869a0529a",
   "metadata": {},
   "source": [
    "**Objectives:**\n",
    "- List popular languages for Data Science\n",
    "- List data science libraries\n",
    "- A table of Data Science tools\n",
    "- A code cell to multiply and add numbers"
   ]
  },
  {
   "cell_type": "markdown",
   "id": "cb5aaff4-a64a-4e99-bb90-da59d6aaba38",
   "metadata": {},
   "source": [
    "Some of the popular languages that Data Scientists use are:\n",
    "1. R\n",
    "2. SQL\n",
    "3. Python\n",
    "4. MATLAB"
   ]
  },
  {
   "cell_type": "markdown",
   "id": "6c9ed73e-b995-4399-a95b-462f6c25ec04",
   "metadata": {},
   "source": [
    "Some of the commonly used libraries used by Data Scientists include:\n",
    "1. TensorFlow\n",
    "2. Pytorch\n",
    "3. Pandas\n",
    "4. Matplotlib"
   ]
  },
  {
   "cell_type": "markdown",
   "id": "0aaa7747-2d98-47cb-b8c3-4608d487080e",
   "metadata": {},
   "source": [
    "| Data Science |\n",
    "|--------------|\n",
    "| RStudio |\n",
    "| Apache Spark |\n",
    "| Apache Hadoop |"
   ]
  },
  {
   "cell_type": "markdown",
   "id": "3f0c69c1-bf98-4e02-9182-5b392a372431",
   "metadata": {},
   "source": [
    "### Below are a few examples of evaluating arithmetic expressions in Python"
   ]
  },
  {
   "cell_type": "code",
   "execution_count": 1,
   "id": "0789c5a1-61d2-4336-b3a4-1ba0dc3c06bd",
   "metadata": {
    "tags": []
   },
   "outputs": [
    {
     "data": {
      "text/plain": [
       "17"
      ]
     },
     "execution_count": 1,
     "metadata": {},
     "output_type": "execute_result"
    }
   ],
   "source": [
    "## This a simple arithmetic expression to mutiply then add integers\n",
    "\n",
    "(3*4)+5"
   ]
  },
  {
   "cell_type": "code",
   "execution_count": 3,
   "id": "f2001050-62d0-4d2e-beeb-08506e2045bf",
   "metadata": {
    "tags": []
   },
   "outputs": [
    {
     "name": "stdout",
     "output_type": "stream",
     "text": [
      "3.3333333333333335\n"
     ]
    }
   ],
   "source": [
    "## This will convert 200 minutes to hours by diving by 60\n",
    "\n",
    "minutes = 200\n",
    "hours = minutes/60\n",
    "print(hours)"
   ]
  },
  {
   "cell_type": "markdown",
   "id": "a9199f12-6cac-47fb-b565-998fb8060449",
   "metadata": {},
   "source": [
    "## Author\n",
    "Muhammad Sarmad Nawaz"
   ]
  },
  {
   "cell_type": "code",
   "execution_count": null,
   "id": "31512788-386c-4b7e-a0e3-79b2aac235ca",
   "metadata": {},
   "outputs": [],
   "source": []
  }
 ],
 "metadata": {
  "kernelspec": {
   "display_name": "Python 3 (ipykernel)",
   "language": "python",
   "name": "python3"
  },
  "language_info": {
   "codemirror_mode": {
    "name": "ipython",
    "version": 3
   },
   "file_extension": ".py",
   "mimetype": "text/x-python",
   "name": "python",
   "nbconvert_exporter": "python",
   "pygments_lexer": "ipython3",
   "version": "3.11.3"
  }
 },
 "nbformat": 4,
 "nbformat_minor": 5
}
